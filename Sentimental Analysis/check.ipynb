{
 "cells": [
  {
   "cell_type": "code",
   "execution_count": 1,
   "id": "bd8f928b",
   "metadata": {},
   "outputs": [],
   "source": [
    "import pandas as pd\n",
    "import numpy as np"
   ]
  },
  {
   "cell_type": "code",
   "execution_count": 2,
   "id": "52f9cabe",
   "metadata": {},
   "outputs": [],
   "source": [
    "import pickle"
   ]
  },
  {
   "cell_type": "code",
   "execution_count": 3,
   "id": "90e8716b",
   "metadata": {},
   "outputs": [],
   "source": [
    "from preprocessing import TextPreprocessor"
   ]
  },
  {
   "cell_type": "code",
   "execution_count": 4,
   "id": "39403d53",
   "metadata": {},
   "outputs": [],
   "source": [
    "with open('sentiment_model.pkl', 'rb') as model_file:\n",
    "    loaded_model = pickle.load(model_file)"
   ]
  },
  {
   "cell_type": "code",
   "execution_count": 7,
   "id": "47151e14",
   "metadata": {},
   "outputs": [],
   "source": [
    "text_sent1 = \"\"\"I really did not like the way way this movie was advertised \" A film that will change the face of cinema etc etc etc \" . I'm one of those strange creatures who is actually turned off by hyperbolic markerteering . On top of that I'm not someone who's going to sit in a cinema wearing 3D glasses . It's bad enough being a speccy in real life . Who wants to add expensive insult to injury by sitting in a cinema looking like a muppet with shades ? In summary I had no intention of watching AVATAR in a cinema if at all\n",
    "\n",
    "In April I found myself on a very long plane trip from Heathrow to India and decided that because I'd seen most of what was on offer I decided to watch AVATAR . Being on a plane where the format is cropped and missing the 3D visuals means that you're able to concentrate on the story . The truth is that the plot is absolutely threadbare and is padded out with long sequences that might seduce an audience in to watching the visuals but plot wise there's nothing happening at all\n",
    "\n",
    "Fault number one - there's very little happening to the plot for large chunks of the movie . Fault number two is that character wise everything is black and white . Good guys ( Read humans ) are blacker than the darkest night while good guys ( Read blue skinned aliens ) are so white they're brighter than the sun itself. It's almost like watching a simplistic revisionary Western where the Indians are the goodies and the calvary are the baddies . I say \" almost \" because Hollywood has never come up with a Western like that and never will . There is no complexity involved what so ever . The bad guys are bad guys and the good guys are good guys and there's no motives involved . Some people may complain that LORD OF THE RINGS also suffered from this characterization but at least the LOTR wasn't a 3D gimmick and had saving graces . Take away the 3D and you'll find AVATAR has no other function as a marketing tool . Also nice to know it was stuffed at the Oscars by the cheap and compelling tiny budget THE HURT LOCKER\"\"\"\n",
    "\n",
    "text_sent2 = \"\"\"I was waiting for this day because i don't like this type of movie and i hate it so much.This movie is trash and i avice people to not watch this movie\"\"\"\n",
    "\n",
    "text_sent3 = \"\"\"Hatts of to JAMES CAMERON for thinking and creating a vision like this. It takes a lotseof hardwork & research to build a whole new world. And there is a reason why this movie is still the no 1 movie in the world. I've never seen this kind of visuals in any other film. And this movie was made in 2009 that was an amazing achievement by the VFX creators & the director itself. You can easily get connected with the movie plot and the way the director has shown the Pandora world was just unbelievable. Cast of this film has done a fabulous job while performing so well and get into the character that not a single one will disappoint. Emotional scenes are so powerful that you feel the characters and their pain for what their suffering. Visual Effects makes this movie so powerful that every creature and big scenery scenes looks real. That's why it has re-released once again to feel the same experience. Don't miss this one on the big screen if you haven't seen it. It's a total new world experience. Can't wait for the PART 2....\"\"\""
   ]
  },
  {
   "cell_type": "code",
   "execution_count": 9,
   "id": "2a8050bf",
   "metadata": {},
   "outputs": [],
   "source": [
    "tt  = TextPreprocessor()"
   ]
  },
  {
   "cell_type": "code",
   "execution_count": 17,
   "id": "cf15481d",
   "metadata": {},
   "outputs": [],
   "source": [
    "processed_text = tt.preprocess_text(text_sent3)"
   ]
  },
  {
   "cell_type": "code",
   "execution_count": 18,
   "id": "14c6194a",
   "metadata": {},
   "outputs": [
    {
     "name": "stdout",
     "output_type": "stream",
     "text": [
      "[1]\n"
     ]
    }
   ],
   "source": [
    "predicted_sentiment = loaded_model.predict(processed_text)\n",
    "print(predicted_sentiment)"
   ]
  },
  {
   "cell_type": "code",
   "execution_count": null,
   "id": "8577278f",
   "metadata": {},
   "outputs": [],
   "source": []
  }
 ],
 "metadata": {
  "kernelspec": {
   "display_name": "Python 3 (ipykernel)",
   "language": "python",
   "name": "python3"
  },
  "language_info": {
   "codemirror_mode": {
    "name": "ipython",
    "version": 3
   },
   "file_extension": ".py",
   "mimetype": "text/x-python",
   "name": "python",
   "nbconvert_exporter": "python",
   "pygments_lexer": "ipython3",
   "version": "3.11.5"
  }
 },
 "nbformat": 4,
 "nbformat_minor": 5
}
